{
 "cells": [
  {
   "cell_type": "markdown",
   "id": "d59f090a",
   "metadata": {},
   "source": [
    "Import the necessary libraries"
   ]
  },
  {
   "cell_type": "code",
   "execution_count": 2,
   "id": "04d78f9a",
   "metadata": {},
   "outputs": [],
   "source": [
    "import pandas as pd\n",
    "\n",
    "#Load the two csv files for training data\n",
    "x = pd.read_csv(\"./Data/training_set_features.csv\")\n",
    "y = pd.read_csv(\"./Data/training_set_labels.csv\")\n",
    "\n",
    "df = pd.merge(x, y, on = \"respondent_id\")\n",
    "\n"
   ]
  },
  {
   "cell_type": "markdown",
   "id": "6181375e",
   "metadata": {},
   "source": [
    "Pick target variable that the model is to predict"
   ]
  },
  {
   "cell_type": "code",
   "execution_count": null,
   "id": "3ce7e91a",
   "metadata": {},
   "outputs": [],
   "source": [
    "target = \"h1n1_vaccine\" # Whether someone got the h1n1 vaccine or not\n",
    "\n",
    "y = df[target]\n",
    "X = df.drop(columns=['respondent_id', 'h1n1_vaccine', 'seasonal_vaccine'])"
   ]
  },
  {
   "cell_type": "markdown",
   "id": "d9bbe813",
   "metadata": {},
   "source": [
    "Split the data for training and testing"
   ]
  },
  {
   "cell_type": "code",
   "execution_count": null,
   "id": "4dad18d7",
   "metadata": {},
   "outputs": [],
   "source": [
    "from sklearn.model_selection import train_test_split\n",
    "\n",
    "X_train, X_test, y_train, y_test = train_test_split(\n",
    "    X, y, test_size=0.2, random_state=42, stratify=y\n",
    ")\n",
    "\n"
   ]
  }
 ],
 "metadata": {
  "kernelspec": {
   "display_name": "learn-env",
   "language": "python",
   "name": "python3"
  },
  "language_info": {
   "codemirror_mode": {
    "name": "ipython",
    "version": 3
   },
   "file_extension": ".py",
   "mimetype": "text/x-python",
   "name": "python",
   "nbconvert_exporter": "python",
   "pygments_lexer": "ipython3",
   "version": "3.8.20"
  }
 },
 "nbformat": 4,
 "nbformat_minor": 5
}
