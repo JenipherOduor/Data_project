{
 "cells": [
  {
   "cell_type": "markdown",
   "id": "d59f090a",
   "metadata": {},
   "source": [
    "Import the necessary libraries"
   ]
  },
  {
   "cell_type": "code",
   "execution_count": 5,
   "id": "ff0aed23",
   "metadata": {},
   "outputs": [],
   "source": [
    "import pandas as pd\n",
    "from sklearn.model_selection import train_test_split\n",
    "from sklearn.compose import ColumnTransformer\n",
    "from sklearn.pipeline import Pipeline\n",
    "from sklearn.impute import SimpleImputer\n",
    "from sklearn.preprocessing import OneHotEncoder\n"
   ]
  },
  {
   "cell_type": "code",
   "execution_count": null,
   "id": "04d78f9a",
   "metadata": {},
   "outputs": [],
   "source": [
    "\n",
    "#Load the two csv files for training data\n",
    "x = pd.read_csv(\"./Data/training_set_features.csv\")\n",
    "y = pd.read_csv(\"./Data/training_set_labels.csv\")\n",
    "\n",
    "df = pd.merge(x, y, on = \"respondent_id\")\n",
    "\n"
   ]
  },
  {
   "cell_type": "markdown",
   "id": "6181375e",
   "metadata": {},
   "source": [
    "Pick target variable that the model is to predict\n",
    "We are predicting h1n1 vaccine. 0 = no, 1 = yes"
   ]
  },
  {
   "cell_type": "code",
   "execution_count": 2,
   "id": "3ce7e91a",
   "metadata": {},
   "outputs": [],
   "source": [
    "target = \"h1n1_vaccine\" # Whether someone got the h1n1 vaccine or not\n",
    "\n",
    "y = df[target]\n",
    "X = df.drop(columns=['respondent_id', 'h1n1_vaccine', 'seasonal_vaccine'])"
   ]
  },
  {
   "cell_type": "markdown",
   "id": "d9bbe813",
   "metadata": {},
   "source": [
    "Split the data for training and testing"
   ]
  },
  {
   "cell_type": "code",
   "execution_count": null,
   "id": "4dad18d7",
   "metadata": {},
   "outputs": [],
   "source": [
    "\n",
    "\n",
    "X_train, X_test, y_train, y_test = train_test_split(\n",
    "    X, y, test_size=0.2, random_state=42, stratify=y\n",
    ")\n",
    "\n"
   ]
  },
  {
   "cell_type": "code",
   "execution_count": null,
   "id": "672e8178",
   "metadata": {},
   "outputs": [],
   "source": [
    "#Identify column types whether numerical or categorical\n",
    "numeric_columns = X_train.select_dtypes(include=['number']).columns.tolist()\n",
    "categorical_columns = X_train.select_dtypes(include=['object']).columns.tolist()\n"
   ]
  },
  {
   "cell_type": "code",
   "execution_count": 8,
   "id": "79d78085",
   "metadata": {},
   "outputs": [],
   "source": [
    "#Fill missing values in numeric columns with the median\n",
    "#Fill missing values in categorical columns with missing and perform encoding\n",
    "\n",
    "numeric_transformer = Pipeline(steps=[\n",
    "    ('imputer', SimpleImputer(strategy='median'))\n",
    "])\n",
    "\n",
    "categorical_transformer = Pipeline(steps=[\n",
    "    ('imputer', SimpleImputer(strategy='constant', fill_value='Missing')),\n",
    "    ('encoder', OneHotEncoder(handle_unknown='ignore', sparse_output=False))\n",
    "])\n",
    "\n"
   ]
  },
  {
   "cell_type": "code",
   "execution_count": 11,
   "id": "be03d341",
   "metadata": {},
   "outputs": [],
   "source": [
    "#Preprocessing pipeline\n",
    "preprocessor = ColumnTransformer(transformers=[\n",
    "    ('num', numeric_transformer, numeric_columns),\n",
    "    ('cat', categorical_transformer, categorical_columns)\n",
    "])\n"
   ]
  },
  {
   "cell_type": "code",
   "execution_count": null,
   "id": "e29742d1",
   "metadata": {},
   "outputs": [
    {
     "name": "stdout",
     "output_type": "stream",
     "text": [
      "Training data shape: (21365, 112)\n",
      "Test data shape: (5342, 112)\n"
     ]
    }
   ],
   "source": [
    "# Fit on training set \n",
    "X_train_clean = preprocessor.fit_transform(X_train)\n",
    "\n",
    "X_test_clean = preprocessor.transform(X_test)\n",
    "\n",
    "print(\"Training data shape:\", X_train_clean.shape)\n",
    "print(\"Test data shape:\", X_test_clean.shape)\n",
    "\n"
   ]
  }
 ],
 "metadata": {
  "kernelspec": {
   "display_name": "learn-env",
   "language": "python",
   "name": "python3"
  },
  "language_info": {
   "codemirror_mode": {
    "name": "ipython",
    "version": 3
   },
   "file_extension": ".py",
   "mimetype": "text/x-python",
   "name": "python",
   "nbconvert_exporter": "python",
   "pygments_lexer": "ipython3",
   "version": "3.8.20"
  }
 },
 "nbformat": 4,
 "nbformat_minor": 5
}
