{
 "cells": [
  {
   "cell_type": "markdown",
   "id": "d59f090a",
   "metadata": {},
   "source": [
    "Import the necessary libraries"
   ]
  },
  {
   "cell_type": "code",
   "execution_count": 5,
   "id": "04d78f9a",
   "metadata": {},
   "outputs": [],
   "source": [
    "import pandas as pd\n",
    "\n",
    "#Load the two csv files for training data\n",
    "x = pd.read_csv(\"./Data/training_set_features.csv\")\n",
    "y = pd.read_csv(\"./Data/training_set_labels.csv\")\n",
    "\n",
    "df = pd.merge(x, y, on = \"respondent_id\")\n",
    "\n"
   ]
  },
  {
   "cell_type": "markdown",
   "id": "6181375e",
   "metadata": {},
   "source": [
    "Pick target variable that the model is to predict"
   ]
  },
  {
   "cell_type": "code",
   "execution_count": 8,
   "id": "3ce7e91a",
   "metadata": {},
   "outputs": [],
   "source": [
    "target = \"h1n1_vaccine\"\n",
    "\n",
    "y = df[target]\n",
    "X = df.drop(columns=['respondent_id', 'h1n1_vaccine', 'seasonal_vaccine'])"
   ]
  }
 ],
 "metadata": {
  "kernelspec": {
   "display_name": "learn-env",
   "language": "python",
   "name": "python3"
  },
  "language_info": {
   "codemirror_mode": {
    "name": "ipython",
    "version": 3
   },
   "file_extension": ".py",
   "mimetype": "text/x-python",
   "name": "python",
   "nbconvert_exporter": "python",
   "pygments_lexer": "ipython3",
   "version": "3.8.20"
  }
 },
 "nbformat": 4,
 "nbformat_minor": 5
}
